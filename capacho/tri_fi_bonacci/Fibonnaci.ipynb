{
  "nbformat": 4,
  "nbformat_minor": 0,
  "metadata": {
    "colab": {
      "provenance": []
    },
    "kernelspec": {
      "name": "python3",
      "display_name": "Python 3"
    },
    "language_info": {
      "name": "python"
    }
  },
  "cells": [
    {
      "cell_type": "code",
      "execution_count": 6,
      "metadata": {
        "id": "DxjZwk39_uF_"
      },
      "outputs": [],
      "source": [
        "def fibonacci_recursivo(n):\n",
        "    if n <= 1:\n",
        "        return n\n",
        "\n",
        "    return fibonacci_recursivo(n - 1) + fibonacci_recursivo(n - 2)"
      ]
    },
    {
      "cell_type": "code",
      "source": [
        "\n",
        "def fibonacci_iterativo(n):\n",
        "    if n <= 1:\n",
        "        return n\n",
        "\n",
        "    # Usamos dos variables para llevar la cuenta de los dos números anteriores\n",
        "    a, b = 0, 1\n",
        "\n",
        "    # Iteramos desde 2 hasta n para calcular los siguientes números\n",
        "    for _ in range(2, n + 1):\n",
        "        a, b = b, a + b\n",
        "\n",
        "    return b"
      ],
      "metadata": {
        "id": "XZXAWs50_wRE"
      },
      "execution_count": 7,
      "outputs": []
    },
    {
      "cell_type": "code",
      "source": [
        "n = 10\n",
        "print(f\"Fibonacci recursivo de {n} es: {fibonacci_recursivo(n)}\")\n",
        "print(f\"Fibonacci iterativo de {n} es: {fibonacci_iterativo(n)}\")"
      ],
      "metadata": {
        "colab": {
          "base_uri": "https://localhost:8080/"
        },
        "id": "4j1EdD7a_zok",
        "outputId": "e0b95504-f4a9-42e6-a551-f58117932528"
      },
      "execution_count": 8,
      "outputs": [
        {
          "output_type": "stream",
          "name": "stdout",
          "text": [
            "Fibonacci recursivo de 10 es: 55\n",
            "Fibonacci iterativo de 10 es: 55\n"
          ]
        }
      ]
    }
  ]
}