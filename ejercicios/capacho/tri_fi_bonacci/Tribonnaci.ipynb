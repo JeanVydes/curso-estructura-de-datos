{
  "nbformat": 4,
  "nbformat_minor": 0,
  "metadata": {
    "colab": {
      "provenance": []
    },
    "kernelspec": {
      "name": "python3",
      "display_name": "Python 3"
    },
    "language_info": {
      "name": "python"
    }
  },
  "cells": [
    {
      "cell_type": "code",
      "execution_count": 1,
      "metadata": {
        "id": "5dCYvXjqB-vI"
      },
      "outputs": [],
      "source": [
        "def tribonacci_recursivo(n):\n",
        "    if n == 0:\n",
        "        return 0\n",
        "    if n <= 2: # T(1) = 1, T(2) = 1\n",
        "        return 1\n",
        "\n",
        "    return tribonacci_recursivo(n - 1) + tribonacci_recursivo(n - 2) + tribonacci_recursivo(n - 3)\n",
        "\n",
        "def tribonacci_iterativo(n):\n",
        "    if n == 0:\n",
        "        return 0\n",
        "    if n <= 2:\n",
        "        return 1\n",
        "\n",
        "    a, b, c = 0, 1, 1\n",
        "\n",
        "    for _ in range(3, n + 1):\n",
        "        # Se calcula el siguiente término y se actualizan las variables\n",
        "        a, b, c = b, c, a + b + c\n",
        "\n",
        "    return c"
      ]
    },
    {
      "cell_type": "code",
      "source": [
        "def tribonacci_iterativo(n):\n",
        "    \"\"\"Calcula el número de Tribonacci de forma iterativa.\"\"\"\n",
        "    if n == 0:\n",
        "        return 0\n",
        "    if n <= 2:\n",
        "        return 1\n",
        "\n",
        "    # Se inicializan las variables con los 3 primeros términos\n",
        "    a, b, c = 0, 1, 1\n",
        "\n",
        "    # El bucle empieza en 3\n",
        "    for _ in range(3, n + 1):\n",
        "        # Se calcula el siguiente término y se actualizan las variables\n",
        "        a, b, c = b, c, a + b + c\n",
        "\n",
        "    return c"
      ],
      "metadata": {
        "id": "9k-_ZVfUCFSV"
      },
      "execution_count": 2,
      "outputs": []
    },
    {
      "cell_type": "code",
      "source": [
        "print(f\"Tribonacci iterativo de {10} es: {tribonacci_iterativo(10)}\")\n",
        "print(f\"Tribonacci recursivo de {10} es: {tribonacci_recursivo(10)}\")"
      ],
      "metadata": {
        "id": "v73YgSkuCHCG",
        "colab": {
          "base_uri": "https://localhost:8080/"
        },
        "outputId": "29d0a6c0-4417-4f8e-ce2f-98b6315c2d2d"
      },
      "execution_count": 4,
      "outputs": [
        {
          "output_type": "stream",
          "name": "stdout",
          "text": [
            "Tribonacci iterativo de 10 es: 149\n",
            "Tribonacci recursivo de 10 es: 149\n"
          ]
        }
      ]
    }
  ]
}